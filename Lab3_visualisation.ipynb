{
  "nbformat": 4,
  "nbformat_minor": 0,
  "metadata": {
    "colab": {
      "provenance": [],
      "authorship_tag": "ABX9TyNXXhSpHK8HdC2RVWAyF/fB",
      "include_colab_link": true
    },
    "kernelspec": {
      "name": "python3",
      "display_name": "Python 3"
    },
    "language_info": {
      "name": "python"
    }
  },
  "cells": [
    {
      "cell_type": "markdown",
      "metadata": {
        "id": "view-in-github",
        "colab_type": "text"
      },
      "source": [
        "<a href=\"https://colab.research.google.com/github/OlegKret/---/blob/master/Lab3_visualisation.ipynb\" target=\"_parent\"><img src=\"https://colab.research.google.com/assets/colab-badge.svg\" alt=\"Open In Colab\"/></a>"
      ]
    },
    {
      "cell_type": "code",
      "execution_count": null,
      "metadata": {
        "colab": {
          "base_uri": "https://localhost:8080/",
          "height": 331
        },
        "id": "iSogp_rtguK7",
        "outputId": "8685bbdd-6479-4df2-c819-6efe9608d521"
      },
      "outputs": [
        {
          "output_type": "stream",
          "name": "stderr",
          "text": [
            "WARNING:matplotlib.animation:MovieWriter imagemagick unavailable; using Pillow instead.\n"
          ]
        },
        {
          "output_type": "display_data",
          "data": {
            "text/plain": [
              "<Figure size 640x480 with 1 Axes>"
            ],
            "image/png": "[encoded data removed]"
          },
          "metadata": {}
        }
      ],
      "source": [
        "import matplotlib.pyplot as plt\n",
        "import matplotlib.animation as animation\n",
        "import numpy as np\n",
        "from matplotlib.patches import Wedge  # Import Wedge from patches\n",
        "\n",
        "# Figure and axes setup\n",
        "fig, ax = plt.subplots()\n",
        "ax.set_xlim(-1, 5)\n",
        "ax.set_ylim(-1, 2)\n",
        "ax.set_aspect('equal')\n",
        "\n",
        "# Rectangle parameters\n",
        "rect_x = 0\n",
        "rect_y = 0\n",
        "rect_width = 4\n",
        "rect_height = 1\n",
        "rectangle = plt.Rectangle((rect_x, rect_y), rect_width, rect_height, fill=False)\n",
        "ax.add_patch(rectangle)\n",
        "\n",
        "# Circle sector parameters\n",
        "sector_radius = 0.5\n",
        "sector_center_x = rect_x + sector_radius\n",
        "sector_center_y = rect_y + rect_height / 2\n",
        "sector_angle = 0\n",
        "\n",
        "# Create the Wedge object directly (no plt.Wedge)\n",
        "wedge = Wedge(\n",
        "    (sector_center_x, sector_center_y), sector_radius, 0, sector_angle, fill=True\n",
        ")\n",
        "ax.add_patch(wedge)\n",
        "\n",
        "\n",
        "def animate(i):\n",
        "    global sector_center_x, sector_angle\n",
        "    sector_center_x = (i % rect_width) + sector_radius\n",
        "    sector_angle = ((i % 360) + 1)\n",
        "\n",
        "    wedge.set_center((sector_center_x, sector_center_y))\n",
        "    wedge.set_theta1(sector_angle)\n",
        "    wedge.set_theta2(0)\n",
        "\n",
        "    return wedge,\n",
        "\n",
        "ani = animation.FuncAnimation(\n",
        "    fig, animate, frames=1440, interval=20, blit=True, repeat=True\n",
        ")\n",
        "\n",
        "ani.save('sector_animation.gif', writer='imagemagick', fps=60)\n",
        "plt.show()"
      ]
    }
  ]
}