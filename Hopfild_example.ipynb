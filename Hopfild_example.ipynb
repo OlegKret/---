{
  "nbformat": 4,
  "nbformat_minor": 0,
  "metadata": {
    "colab": {
      "provenance": [],
      "authorship_tag": "ABX9TyOTFYikKPBfUUVX768Vu7uF",
      "include_colab_link": true
    },
    "kernelspec": {
      "name": "python3",
      "display_name": "Python 3"
    },
    "language_info": {
      "name": "python"
    }
  },
  "cells": [
    {
      "cell_type": "markdown",
      "metadata": {
        "id": "view-in-github",
        "colab_type": "text"
      },
      "source": [
        "<a href=\"https://colab.research.google.com/github/OlegKret/---/blob/master/Hopfild_example.ipynb\" target=\"_parent\"><img src=\"https://colab.research.google.com/assets/colab-badge.svg\" alt=\"Open In Colab\"/></a>"
      ]
    },
    {
      "cell_type": "code",
      "execution_count": null,
      "metadata": {
        "colab": {
          "base_uri": "https://localhost:8080/"
        },
        "id": "TivUR7ImbZHX",
        "outputId": "960038fc-5278-47ac-f26c-1debd6388b33"
      },
      "outputs": [
        {
          "output_type": "stream",
          "name": "stdout",
          "text": [
            "Weight Matrix:\n",
            "[[ 0.  1.  0. -1.  0.]\n",
            " [ 1.  0.  0. -1.  0.]\n",
            " [ 0.  0.  0.  0.  1.]\n",
            " [-1. -1.  0.  0.  0.]\n",
            " [ 0.  0.  1.  0.  0.]]\n",
            "\n",
            "Detailed Retrieval Report:\n",
            "Initial State: [ 1  1 -1 -1 -1]\n",
            "Iteration 1: [ 1  1 -1 -1 -1]\n",
            "Network converged.\n",
            "\n",
            "Final Retrieved Pattern:\n",
            "[ 1  1 -1 -1 -1]\n"
          ]
        }
      ],
      "source": [
        "import numpy as np\n",
        "\n",
        "def calculate_weights(patterns):\n",
        "    \"\"\"Calculates the weight matrix for the Hopfield network.\"\"\"\n",
        "    num_patterns, num_neurons = patterns.shape\n",
        "    weights = np.zeros((num_neurons, num_neurons))\n",
        "    for pattern in patterns:\n",
        "        weights += np.outer(pattern, pattern)\n",
        "    np.fill_diagonal(weights, 0)  # Zero out the diagonal\n",
        "    return weights / num_patterns\n",
        "\n",
        "def retrieve_pattern(weights, distorted_pattern, max_iterations=100):\n",
        "    \"\"\"Retrieves a pattern from the Hopfield network with detailed reporting.\"\"\"\n",
        "    pattern = distorted_pattern.copy()\n",
        "    report = []\n",
        "    report.append(\"Initial State: \" + str(pattern))\n",
        "\n",
        "    for iteration in range(max_iterations):\n",
        "        for i in range(len(pattern)):\n",
        "            pattern[i] = np.sign(np.dot(weights[i], pattern))\n",
        "        report.append(f\"Iteration {iteration + 1}: \" + str(pattern))\n",
        "        if np.array_equal(pattern, distorted_pattern):\n",
        "            report.append(\"Network converged.\")\n",
        "            break\n",
        "        distorted_pattern = pattern.copy()\n",
        "\n",
        "    return pattern, report\n",
        "\n",
        "# Reference images\n",
        "patterns = np.array([\n",
        "    [1, 1, -1, -1, -1],\n",
        "    [1, 1, 1, -1, 1]\n",
        "])\n",
        "\n",
        "# Distorted vector\n",
        "distorted_pattern = np.array([1, 1, -1, -1, -1])\n",
        "\n",
        "# Calculate weights\n",
        "weights = calculate_weights(patterns)\n",
        "\n",
        "# Retrieve pattern\n",
        "retrieved_pattern, retrieval_report = retrieve_pattern(weights, distorted_pattern)\n",
        "\n",
        "print(\"Weight Matrix:\")\n",
        "print(weights)\n",
        "\n",
        "print(\"\\nDetailed Retrieval Report:\")\n",
        "for line in retrieval_report:\n",
        "    print(line)\n",
        "\n",
        "print(\"\\nFinal Retrieved Pattern:\")\n",
        "print(retrieved_pattern)"
      ]
    }
  ]
}